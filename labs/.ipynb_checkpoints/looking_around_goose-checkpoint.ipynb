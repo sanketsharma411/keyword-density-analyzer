{
 "cells": [
  {
   "cell_type": "markdown",
   "metadata": {},
   "source": [
    "## looking around goose\n",
    "Having selected goose as our scraper, we look deeper into it"
   ]
  },
  {
   "cell_type": "code",
   "execution_count": 47,
   "metadata": {
    "collapsed": true
   },
   "outputs": [],
   "source": [
    "test_url = {\n",
    "    'amazon':'http://www.amazon.com/Cuisinart-CPT-122-Compact-2-Slice-Toaster/dp/B009GQ034C/ref=sr_1_1?s=kitchen&ie=UTF8&qid=1431620315&sr=1-1&keywords=toaster',\n",
    "    'blog':'http://blog.rei.com/camp/how-to-introduce-your-indoorsy-friend-to-the-outdoors/',\n",
    "    'news':'http://www.cnn.com/2013/06/10/politics/edward-snowden-profile/',\n",
    "    'goal':\"http://www.goal.com/en/news/9/england/2015/09/11/15240922/im-scared-of-van-gaals-bulldog-face-admits-rojo?ICID=HP_HN_1\",\n",
    "    'wiki':'https://en.wikipedia.org/wiki/Georgia_Institute_of_Technology_College_of_Computing',\n",
    "    'reddit':'https://www.reddit.com/r/Barca/'\n",
    "}"
   ]
  },
  {
   "cell_type": "code",
   "execution_count": 2,
   "metadata": {
    "collapsed": true
   },
   "outputs": [],
   "source": [
    "from goose import Goose"
   ]
  },
  {
   "cell_type": "code",
   "execution_count": 3,
   "metadata": {
    "collapsed": true
   },
   "outputs": [],
   "source": [
    "g = Goose()"
   ]
  },
  {
   "cell_type": "code",
   "execution_count": 51,
   "metadata": {
    "collapsed": false
   },
   "outputs": [],
   "source": [
    "article = g.extract(url=test_url['reddit'])"
   ]
  },
  {
   "cell_type": "code",
   "execution_count": 52,
   "metadata": {
    "collapsed": false
   },
   "outputs": [
    {
     "name": "stdout",
     "output_type": "stream",
     "text": [
      "__class__ | __delattr__ | __dict__ | __doc__ | __format__ | __getattribute__ | __hash__ | __init__ | __module__ | __new__ | __reduce__ | __reduce_ex__ | __repr__ | __setattr__ | __sizeof__ | __str__ | __subclasshook__ | __weakref__ | additional_data | authors | canonical_link | cleaned_text | doc | domain | final_url | infos | link_hash | links | meta_description | meta_favicon | meta_keywords | meta_lang | movies | opengraph | publish_date | raw_doc | raw_html | tags | title | top_image | top_node | tweets |\n"
     ]
    }
   ],
   "source": [
    "for element in dir(article):\n",
    "    print element,'|',"
   ]
  },
  {
   "cell_type": "code",
   "execution_count": 53,
   "metadata": {
    "collapsed": false
   },
   "outputs": [
    {
     "data": {
      "text/plain": [
       "(u'Want to join? Log in or sign up in seconds.',\n",
       " u'F.C. Barcelona News and Discussion \\u2022 /r/Barca',\n",
       " [],\n",
       " 'reddit: the front page of the internet',\n",
       " 'reddit, reddit.com, vote, comment, submit')"
      ]
     },
     "execution_count": 53,
     "metadata": {},
     "output_type": "execute_result"
    }
   ],
   "source": [
    "article.cleaned_text,article.title,article.tags,article.meta_description,article.meta_keywords"
   ]
  },
  {
   "cell_type": "markdown",
   "metadata": {
    "collapsed": true
   },
   "source": [
    "### Selecting useful params\n",
    "Almost all links we had a look have the following elements present\n",
    " - cleaned_text\n",
    " - title\n",
    " \n",
    "So these would be the primary objects around which we base our work\n",
    "\n",
    "Other additional but sparsly seen items:\n",
    " - meta_description\n",
    " - tags\n",
    " - meta_keywords"
   ]
  },
  {
   "cell_type": "code",
   "execution_count": null,
   "metadata": {
    "collapsed": true
   },
   "outputs": [],
   "source": []
  }
 ],
 "metadata": {
  "kernelspec": {
   "display_name": "Python 2",
   "language": "python",
   "name": "python2"
  },
  "language_info": {
   "codemirror_mode": {
    "name": "ipython",
    "version": 2
   },
   "file_extension": ".py",
   "mimetype": "text/x-python",
   "name": "python",
   "nbconvert_exporter": "python",
   "pygments_lexer": "ipython2",
   "version": "2.7.10"
  }
 },
 "nbformat": 4,
 "nbformat_minor": 0
}
