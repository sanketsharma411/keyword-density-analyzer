{
 "cells": [
  {
   "cell_type": "markdown",
   "metadata": {},
   "source": [
    "### Scraping\n",
    "Here we look at the available internet scraping tools in python, and selecting from them"
   ]
  },
  {
   "cell_type": "code",
   "execution_count": 1,
   "metadata": {
    "collapsed": true
   },
   "outputs": [],
   "source": [
    "test_urls = [\n",
    "    'http://www.amazon.com/Cuisinart-CPT-122-Compact-2-Slice-Toaster/dp/B009GQ034C/ref=sr_1_1?s=kitchen&ie=UTF8&qid=1431620315&sr=1-1&keywords=toaster',\n",
    "    'http://blog.rei.com/camp/how-to-introduce-your-indoorsy-friend-to-the-outdoors/',\n",
    "    'http://www.cnn.com/2013/06/10/politics/edward-snowden-profile/'\n",
    "    \n",
    "]"
   ]
  },
  {
   "cell_type": "markdown",
   "metadata": {},
   "source": [
    "### python-goose\n",
    "\n",
    "Documentation and installation instructions from \n",
    "https://pypi.python.org/pypi/goose-extractor/"
   ]
  },
  {
   "cell_type": "code",
   "execution_count": 2,
   "metadata": {
    "collapsed": false
   },
   "outputs": [],
   "source": [
    "from goose import Goose"
   ]
  },
  {
   "cell_type": "code",
   "execution_count": 3,
   "metadata": {
    "collapsed": true
   },
   "outputs": [],
   "source": [
    "g = Goose()"
   ]
  },
  {
   "cell_type": "code",
   "execution_count": 4,
   "metadata": {
    "collapsed": true
   },
   "outputs": [],
   "source": [
    "article = g.extract(url=test_urls[0])"
   ]
  },
  {
   "cell_type": "code",
   "execution_count": 5,
   "metadata": {
    "collapsed": false
   },
   "outputs": [
    {
     "name": "stdout",
     "output_type": "stream",
     "text": [
      "Amazon.com: Cuisinart CPT-122 Compact 2-Slice Toaster: Kitchen & Dining\n",
      "Online Shopping for Kitchen Small Appliances from a great selection of Coffee Machines, Blenders, Juicers, Ovens, Specialty Appliances, & more at everyday low prices\n",
      "I have actually been looking for a toaster for years, but the reviews of all of the toasters were so bad I just kept my old toaster that wouldn't pop up by itself. Finally I gave in and bought this one even though there are some bad reviews and I am very happy with it. While the toast is not perfectly colored the same on both sides with thinner slices, both sides get nicely dried to a toast crispiness and a really good toast flavor.\n",
      "\n",
      "\n",
      "\n",
      "There are features I love about this toaster that offset the imperfect coloration to me. I did tests with the dials to set the color and the higher I set the dials the darker the toast turned out on both sides, as they should. I love the fact that I can pull the handles up higher to get out smaller pieces of toast as I often toast French bread. I love the reheat function as I can make the toast, then push it back down and hit reheat while I am dishing up the eggs and by the time I have plated the eggs the toast is back up and ready without burning or browning too much. I love the cancel button so I can pop the toast back up if I realize I didn't set the color the way I wanted or some other reason. I haven't used the bagel setting yet, but I like that it is there.\n",
      "\n",
      "\n",
      "\n",
      "I have had this toaster for a month now, use it all the time, and am very pleased with it.\n"
     ]
    }
   ],
   "source": [
    "print article.title\n",
    "print article.meta_description\n",
    "print article.cleaned_text\n"
   ]
  },
  {
   "cell_type": "code",
   "execution_count": 6,
   "metadata": {
    "collapsed": false
   },
   "outputs": [
    {
     "data": {
      "text/plain": [
       "['__class__',\n",
       " '__delattr__',\n",
       " '__dict__',\n",
       " '__doc__',\n",
       " '__format__',\n",
       " '__getattribute__',\n",
       " '__hash__',\n",
       " '__init__',\n",
       " '__module__',\n",
       " '__new__',\n",
       " '__reduce__',\n",
       " '__reduce_ex__',\n",
       " '__repr__',\n",
       " '__setattr__',\n",
       " '__sizeof__',\n",
       " '__str__',\n",
       " '__subclasshook__',\n",
       " '__weakref__',\n",
       " 'additional_data',\n",
       " 'authors',\n",
       " 'canonical_link',\n",
       " 'cleaned_text',\n",
       " 'doc',\n",
       " 'domain',\n",
       " 'final_url',\n",
       " 'infos',\n",
       " 'link_hash',\n",
       " 'links',\n",
       " 'meta_description',\n",
       " 'meta_favicon',\n",
       " 'meta_keywords',\n",
       " 'meta_lang',\n",
       " 'movies',\n",
       " 'opengraph',\n",
       " 'publish_date',\n",
       " 'raw_doc',\n",
       " 'raw_html',\n",
       " 'tags',\n",
       " 'title',\n",
       " 'top_image',\n",
       " 'top_node',\n",
       " 'tweets']"
      ]
     },
     "execution_count": 6,
     "metadata": {},
     "output_type": "execute_result"
    }
   ],
   "source": [
    "dir(article)"
   ]
  },
  {
   "cell_type": "code",
   "execution_count": 7,
   "metadata": {
    "collapsed": false
   },
   "outputs": [
    {
     "data": {
      "text/plain": [
       "{'authors': [],\n",
       " 'cleaned_text': u\"I have actually been looking for a toaster for years, but the reviews of all of the toasters were so bad I just kept my old toaster that wouldn't pop up by itself. Finally I gave in and bought this one even though there are some bad reviews and I am very happy with it. While the toast is not perfectly colored the same on both sides with thinner slices, both sides get nicely dried to a toast crispiness and a really good toast flavor.\\n\\n\\n\\nThere are features I love about this toaster that offset the imperfect coloration to me. I did tests with the dials to set the color and the higher I set the dials the darker the toast turned out on both sides, as they should. I love the fact that I can pull the handles up higher to get out smaller pieces of toast as I often toast French bread. I love the reheat function as I can make the toast, then push it back down and hit reheat while I am dishing up the eggs and by the time I have plated the eggs the toast is back up and ready without burning or browning too much. I love the cancel button so I can pop the toast back up if I realize I didn't set the color the way I wanted or some other reason. I haven't used the bagel setting yet, but I like that it is there.\\n\\n\\n\\nI have had this toaster for a month now, use it all the time, and am very pleased with it.\",\n",
       " 'domain': 'www.amazon.com',\n",
       " 'image': {'height': 0, 'type': 'image', 'url': '', 'width': 0},\n",
       " 'links': [],\n",
       " 'meta': {'canonical': 'http://www.amazon.com/Cuisinart-CPT-122-Compact-2-Slice-Toaster/dp/B009GQ034C',\n",
       "  'description': 'Online Shopping for Kitchen Small Appliances from a great selection of Coffee Machines, Blenders, Juicers, Ovens, Specialty Appliances, & more at everyday low prices',\n",
       "  'favicon': '',\n",
       "  'keywords': 'toaster',\n",
       "  'lang': None},\n",
       " 'movies': [],\n",
       " 'opengraph': {},\n",
       " 'publish_date': None,\n",
       " 'tags': [],\n",
       " 'title': u'Amazon.com: Cuisinart CPT-122 Compact 2-Slice Toaster: Kitchen & Dining',\n",
       " 'tweets': []}"
      ]
     },
     "execution_count": 7,
     "metadata": {},
     "output_type": "execute_result"
    }
   ],
   "source": [
    "article.infos"
   ]
  },
  {
   "cell_type": "code",
   "execution_count": 8,
   "metadata": {
    "collapsed": false
   },
   "outputs": [],
   "source": [
    "article3 = g.extract(url=test_urls[2])"
   ]
  },
  {
   "cell_type": "code",
   "execution_count": 9,
   "metadata": {
    "collapsed": false
   },
   "outputs": [
    {
     "data": {
      "text/plain": [
       "{'authors': [],\n",
       " 'cleaned_text': u'He\\'s a high school dropout who worked his way into the most secretive computers in U.S. intelligence as a defense contractor -- only to blow those secrets wide open by spilling details of classified surveillance programs.\\n\\nNow, Edward Snowden might never live in the United States as a free man again. Where he may end up was a source of global speculation Sunday after he flew from Hong Kong to Russia, his ultimate destination unknown to most.\\n\\nSnowden has revealed himself as the source of documents outlining a massive effort by the U.S. National Security Agency to track cell phone calls and monitor the e-mail and Internet traffic of virtually all Americans.\\n\\nSnowden, 29, said he just wanted the public to know what the government was doing.\\n\\n\"Even if you\\'re not doing anything wrong you\\'re being watched and recorded,\" he said.\\n\\nSnowden told The Guardian newspaper in the United Kingdom that he had access to the full rosters of everyone working at the NSA, the entire intelligence community and undercover assets around the world.\\n\\n\"I\\'m just another guy who sits there day to day in the office, watching what\\'s happening, and goes, \\'This is something that\\'s not our place to decide.\\' The public needs to decide whether these programs or policies are right or wrong,\" he said.\\n\\nSnowden fled to Hong Kong after copying one last set of documents and telling his boss he needed to go away for medical treatment.\\n\\nBefore his leak of U.S. intelligence, Snowden was living \"in paradise.\"\\n\\nHe worked for a major U.S. government contractor in Hawaii, earning a six-figure salary and enjoying the scenic state with his girlfriend.\\n\\nHe told The Guardian he never received a high school diploma and didn\\'t complete his computer studies at a community college. Instead, he joined the Army in 2003 but was discharged after breaking both legs in an accident.\\n\\nSnowden said he later worked as a security guard for the NSA and then took a computer security job with the CIA. He left that job in 2009 and moved on to Booz Allen Hamilton, where he worked as a contractor for the government in Hawaii.\\n\\nHe told the Guardian that he left for Hong Kong on May 20 without telling his family or his girlfriend what he planned.\\n\\n\"You\\'re living in Hawaii, in paradise and making a ton of money. What would it take to make you leave everything behind?\" he said in the Guardian interview.\\n\\n\"I\\'m willing to sacrifice all of that because I can\\'t in good conscience allow the U.S. government to destroy privacy, Internet freedom and basic liberties for people around the world with this massive surveillance machine they\\'re secretly building.\"\\n\\nSome residents on Oahu island are glad Snowden left.\\n\\n\"From a Hawaii standpoint, good riddance, thanks for leaving,\" Ralph Cossa told CNN affiliate KHON.\\n\\n\"I\\'m sure the guy had an overactive Mother Teresa gene and thought he was going to go out and save America from Americans, but in reality he was very foolish,\" Cossa said. \"We expect the government to honor our privacy, but we also expect our government to protect us from terrorist attacks.\"\\n\\nPresident Barack Obama insists his administration is not spying on U.S. citizens -- rather, it\\'s only looking for information on terrorists.\\n\\nBooz Allen Hamilton, the government contractor that employed Snowden, said Snowden had worked at the firm for less than three months.\\n\\n\"News reports that this individual has claimed to have leaked classified information are shocking, and if accurate, this action represents a grave violation of the code of conduct and core values of our firm,\" the company said in the statement. The firm said it will cooperate with authorities in their investigation.\\n\\nAccording to the Guardian, the only time Snowden became emotional during hours of interviews was when he thought about what might happen to his relatives -- many of whom work for the U.S. government.\\n\\n\"The only thing I fear is the harmful effects on my family, who I won\\'t be able to help anymore,\" he said. \"That\\'s what keeps me up at night.\"\\n\\nAs for his concerns about his country, \"the greatest fear that I have regarding the outcome for America of these disclosures is that nothing will change.\"\\n\\nREAD: Some shrug at NSA snooping: Privacy\\'s already dead\\n\\nObama: No one listening to your calls\\n\\nOfficial: Damage assessment over U.S. intelligence-gathering leaks',\n",
       " 'domain': 'www.cnn.com',\n",
       " 'image': {'height': 360,\n",
       "  'type': 'image',\n",
       "  'url': 'http://i2.cdn.turner.com/cnnnext/dam/assets/130609225848-baer-nsa-whistleblower-00001115-story-top.jpg',\n",
       "  'width': 640},\n",
       " 'links': ['http://cnn.com/2013/06/09/politics/nsa-leak-identity/index.html',\n",
       "  '#',\n",
       "  '/videos',\n",
       "  '#',\n",
       "  '/videos',\n",
       "  '#',\n",
       "  '/videos',\n",
       "  'http://cnn.com/2013/06/10/politics/nsa-leak/index.html',\n",
       "  '#',\n",
       "  '/videos',\n",
       "  '#',\n",
       "  '/videos',\n",
       "  'http://www.khon2.com/2013/06/09/man-behind-nsa-leaks-worked-in-hawaii/',\n",
       "  'http://www.cnn.com/2013/06/10/opinion/rushkoff-snowden-hero/index.html',\n",
       "  'http://www.boozallen.com/media-center/press-releases/48399320/statement-reports-leaked-information-060913',\n",
       "  'http://cnn.com/2013/06/07/tech/web/nsa-internet-privacy',\n",
       "  'http://cnn.com/2013/06/07/politics/nsa-data-mining/index.html',\n",
       "  'http://cnn.com/2013/06/08/politics/nsa-data-mining/index.html'],\n",
       " 'meta': {'canonical': 'http://www.cnn.com/2013/06/10/politics/edward-snowden-profile/index.html',\n",
       "  'description': 'Edward Snowden might never live in the U.S. as a free man again after leaking secrets about a U.S. surveillance program',\n",
       "  'favicon': '/favicon.ie9.ico',\n",
       "  'keywords': 'politics, Man behind NSA leaks says he did it to safeguard privacy, liberty - CNNPolitics.com',\n",
       "  'lang': None},\n",
       " 'movies': [],\n",
       " 'opengraph': {'description': 'Edward Snowden might never live in the U.S. as a free man again after leaking secrets about a U.S. surveillance program',\n",
       "  'image': 'http://i2.cdn.turner.com/cnnnext/dam/assets/130609164540-edward-snowden-guardian-t3-entertainment.jpg',\n",
       "  'pubdate': '2013-06-10T08:30:15Z',\n",
       "  'site_name': 'CNN',\n",
       "  'title': 'Man behind NSA leaks says he did it to safeguard privacy, liberty - CNNPolitics.com',\n",
       "  'type': 'article',\n",
       "  'url': 'http://www.cnn.com/2013/06/10/politics/edward-snowden-profile/index.html'},\n",
       " 'publish_date': None,\n",
       " 'tags': [],\n",
       " 'title': u'Man behind NSA leaks says he did it to safeguard privacy, liberty - Politics.com',\n",
       " 'tweets': []}"
      ]
     },
     "execution_count": 9,
     "metadata": {},
     "output_type": "execute_result"
    }
   ],
   "source": [
    "article3.infos"
   ]
  },
  {
   "cell_type": "code",
   "execution_count": 10,
   "metadata": {
    "collapsed": true
   },
   "outputs": [],
   "source": [
    "article2 = g.extract(url=test_urls[1])"
   ]
  },
  {
   "cell_type": "code",
   "execution_count": 11,
   "metadata": {
    "collapsed": false
   },
   "outputs": [
    {
     "data": {
      "text/plain": [
       "{'authors': [],\n",
       " 'cleaned_text': u'A campfire, toasted s\\u2019mores and great conversation on a summer night under the stars might sound like an ideal way to hang with your friends\\u2014until you realize that you don\\u2019t have a single pal who would join you for a day hike, let alone an overnight in the woods.\\n\\nCamper, we have a problem. Here are some ways to introduce your \\u201cindoorsy\\u201d friend to the great outdoors and remain best buds.\\n\\nSometimes it\\u2019s as easy as calling up a friend and saying \\u201cLet\\u2019s go on a short hike this weekend.\\u201d Tell him or her why you think they might enjoy the scenery, fresh air, and time away from the laptop and smartphone. If you encounter reluctance, lead with an offer to do something that he or she enjoys, like shooting pool or listening to live jazz. After all, relationships require compromises and our good friends help us grow and expand our horizons.\\n\\nDon\\u2019t attempt too much too soon. You may be game for a 20-mile bike ride or steep four-hour hike, but keep it short and sweet for your novice buddy\\u2014an hour or less. Afterwards, celebrate your accomplishment by treating your friend to a coffee or beer. Remember to start gently; no brutal inclines or tricky terrain.\\n\\nIf, for example, you\\u2019d like to take your friend kayaking, it should be your responsibility to plan everything: the time, place and necessary gear to pack. Advise your friend on how to dress. Nothing ruins a day faster than being too cold, too hot or too wet. You take care of all the details to make it as easy and painless as possible. For more complex activities like kayaking, mountain biking or cross-country skiing, give basic, minimal instruction, and keep it flat: flat water, flat trail, flat track. And bring tasty snacks.\\n\\nLet your friend set the pace for how fast you go, and joyfully follow suit. This is not the time to beat your Strava record. Go slow and steady and carry on a conversation (that\\u2019s why you invited a buddy in the first place). Keep in mind that your friend might not have the same level of fitness as you. Be positive and encouraging, and be sure to take several breaks for water.\\n\\nOnly after you take a few short day hikes should you suggest overnight camping. At this point, your friend should be confident that you won\\u2019t act like a jerk on the trail.\\n\\nSharing one of your favorite activities with one of your favorite people can be very rewarding. You might find that you learn something new about a friend outside the bar and under the stars.',\n",
       " 'domain': 'blog.rei.com',\n",
       " 'image': {'height': 1000,\n",
       "  'type': 'image',\n",
       "  'url': 'http://blog.rei.com/wp-content/uploads/2015/05/Lasso-092914-3344-001.jpg',\n",
       "  'width': 1500},\n",
       " 'links': [],\n",
       " 'meta': {'canonical': 'http://blog.rei.com/camp/how-to-introduce-your-indoorsy-friend-to-the-outdoors/',\n",
       "  'description': \"Share your passion for the outdoors and introduce a friend to hike and camp--don't forget to start slow.\",\n",
       "  'favicon': 'http://blog.rei.com/wp-content/uploads/2015/05/favicon.ico',\n",
       "  'keywords': '',\n",
       "  'lang': None},\n",
       " 'movies': [],\n",
       " 'opengraph': {'description': \"Share your passion for the outdoors and introduce a friend to hike and camp--don't forget to start slow.\",\n",
       "  'image': 'http://blog.rei.com/wp-content/uploads/2015/05/Lasso-092914-3344-001.jpg',\n",
       "  'locale': 'en_US',\n",
       "  'site_name': 'REI Blog',\n",
       "  'title': 'How to Introduce Your Indoorsy Friend to the Outdoors',\n",
       "  'type': 'article',\n",
       "  'url': 'http://blog.rei.com/camp/how-to-introduce-your-indoorsy-friend-to-the-outdoors/'},\n",
       " 'publish_date': None,\n",
       " 'tags': [u'Life Stages', u'Hike', u'Jennifer Davis-Flynn', u'camp', u'Tips'],\n",
       " 'title': u'How to Introduce Your Indoorsy Friend to the Outdoors',\n",
       " 'tweets': []}"
      ]
     },
     "execution_count": 11,
     "metadata": {},
     "output_type": "execute_result"
    }
   ],
   "source": [
    "article2.infos"
   ]
  },
  {
   "cell_type": "code",
   "execution_count": 12,
   "metadata": {
    "collapsed": false
   },
   "outputs": [],
   "source": [
    "article_nyt = g.extract(url='http://www.nytimes.com/2015/09/11/us/politics/iran-nuclear-deal-senate.html?_r=0')"
   ]
  },
  {
   "cell_type": "code",
   "execution_count": 13,
   "metadata": {
    "collapsed": false,
    "scrolled": true
   },
   "outputs": [
    {
     "data": {
      "text/plain": [
       "{'authors': [],\n",
       " 'cleaned_text': u'',\n",
       " 'domain': u'',\n",
       " 'image': None,\n",
       " 'links': [],\n",
       " 'meta': {'canonical': u'',\n",
       "  'description': u'',\n",
       "  'favicon': u'',\n",
       "  'keywords': u'',\n",
       "  'lang': u''},\n",
       " 'movies': [],\n",
       " 'opengraph': {},\n",
       " 'publish_date': None,\n",
       " 'tags': [],\n",
       " 'title': u'',\n",
       " 'tweets': []}"
      ]
     },
     "execution_count": 13,
     "metadata": {},
     "output_type": "execute_result"
    }
   ],
   "source": [
    "article_nyt.infos"
   ]
  },
  {
   "cell_type": "markdown",
   "metadata": {},
   "source": [
    "Goose 1.0.25 fails working with NYTimes as suggested by on StackOverflow\n",
    "http://stackoverflow.com/questions/30356069/extract-news-article-content-from-stored-html-pages\n",
    "\n",
    "So Reverting back to 1.0.22\n",
    "\n",
    "Nope that did not fix it\n",
    "\n",
    "So I guess we will have to live with it\n",
    "\n",
    "but it is definitely a __<span style=\"color:red\">limitation</span>__\n",
    "    \n",
    "    If time permits use something like a back-off strategy amongst multiple \n",
    "    packages"
   ]
  },
  {
   "cell_type": "markdown",
   "metadata": {},
   "source": [
    "### python-readability\n",
    "\n",
    "https://github.com/buriy/python-readability"
   ]
  },
  {
   "cell_type": "code",
   "execution_count": 14,
   "metadata": {
    "collapsed": true
   },
   "outputs": [],
   "source": [
    "from readability.readability import Document"
   ]
  },
  {
   "cell_type": "code",
   "execution_count": 15,
   "metadata": {
    "collapsed": false
   },
   "outputs": [],
   "source": [
    "import urllib2"
   ]
  },
  {
   "cell_type": "code",
   "execution_count": 16,
   "metadata": {
    "collapsed": true
   },
   "outputs": [],
   "source": [
    "html = urllib2.urlopen(test_urls[0]).read()"
   ]
  },
  {
   "cell_type": "code",
   "execution_count": 17,
   "metadata": {
    "collapsed": true
   },
   "outputs": [
    {
     "name": "stdout",
     "output_type": "stream",
     "text": [
      "<html><body><div><div id=\"buyxgety_feature_div\">\n",
      "\n",
      "\n",
      "    \n",
      "    \n",
      "    \n",
      "\n",
      "      \n",
      "\n",
      "\n",
      "    \n",
      "\n",
      "      \n",
      "\n",
      "\n",
      "\n",
      "\n",
      "\n",
      "\n",
      "\n",
      "\n",
      "\n",
      "\n",
      "\n",
      "\n",
      "\n",
      "            \n",
      "\n",
      "\n",
      "\n",
      "\n",
      "\n",
      "\n",
      "\n",
      "\n",
      "\n",
      "\n",
      "\n",
      "            \n",
      "\n",
      "\n",
      "\n",
      "\n",
      "\n",
      "\n",
      "\n",
      "\n",
      "\n",
      "\n",
      "\n",
      "            \n",
      "    \n",
      "    \n",
      "    \n",
      "    \n",
      "    \n",
      "\n",
      "  \n",
      "  \n",
      "  \n",
      "    \n",
      "        \n",
      "    \n",
      "\n",
      "  \n",
      "    \n",
      "  \n",
      "    \n",
      "  \n",
      "  \n",
      "        \n",
      "        \n",
      "    \n",
      "        \n",
      "       \n",
      "    \n",
      "    \n",
      "    \n",
      "    \n",
      "    \n",
      "\n",
      "  \n",
      "  \n",
      "  \n",
      "    \n",
      "        \n",
      "    \n",
      "\n",
      "  \n",
      "    \n",
      "  \n",
      "    \n",
      "  \n",
      "  \n",
      "        \n",
      "        \n",
      "    \n",
      "        \n",
      "       \n",
      "    \n",
      "    \n",
      "    \n",
      "    \n",
      "    \n",
      "\n",
      "  \n",
      "  \n",
      "  \n",
      "    \n",
      "        \n",
      "    \n",
      "\n",
      "  \n",
      "    \n",
      "  \n",
      "    \n",
      "  \n",
      "  \n",
      "        \n",
      "        \n",
      "    \n",
      "        \n",
      "       \n",
      "   \n",
      "    \n",
      "  \n",
      "\n",
      "\n",
      "\n",
      "\n",
      "\n",
      "\n",
      "\n",
      "\n",
      "\n",
      "\n",
      "\n",
      "\n",
      "      \n",
      "\n",
      "\n",
      "\n",
      "\n",
      "\n",
      "\n",
      "\n",
      "\n",
      "\n",
      "\n",
      "\n",
      "\n",
      "\n",
      "    \n",
      "  \n",
      "\n",
      "\n",
      "    \n",
      "  \n",
      "\n",
      "\n",
      "    \n",
      "  \n",
      "\n",
      "\n",
      "\n",
      "\n",
      "\n",
      "\n",
      "\n",
      "\n",
      "\n",
      "\n",
      "\n",
      "\n",
      "\n",
      "\n",
      "\n",
      "\n",
      "\n",
      "\n",
      "<hr class=\"bucketDivider\"/>\n",
      "<div class=\"bucket use-beacon-styles is-aui aui-buttons\" id=\"sims_fbt\">\n",
      "\n",
      "    <h2>Frequently Bought Together</h2>\n",
      "\n",
      "    \n",
      "    \n",
      "</div>\n",
      "\n",
      "<p id=\"fbt_item_data\" data-fbt=\"{&quot;currencyCode&quot;:&quot;USD&quot;,&quot;itemData&quot;:[{&quot;priceBreaksMAP&quot;:null,&quot;buyingPrice&quot;:29.95,&quot;ASIN&quot;:&quot;B009GQ034C&quot;,&quot;moqNum&quot;:1,&quot;isPreorder&quot;:0},{&quot;priceBreaksMAP&quot;:null,&quot;buyingPrice&quot;:8.98,&quot;ASIN&quot;:&quot;B0046EDHSS&quot;,&quot;moqNum&quot;:1,&quot;isPreorder&quot;:0},{&quot;priceBreaksMAP&quot;:null,&quot;buyingPrice&quot;:15.99,&quot;ASIN&quot;:&quot;B00Q4O5POC&quot;,&quot;moqNum&quot;:1,&quot;isPreorder&quot;:0}],&quot;shippingId&quot;:&quot;B009GQ034C::iaXbdJTF0j8cE534N800f%2FeYlFfKD95kWOHXmIKlo6LnDCaPnDF0rxZHGhk0YD7NOEUSag2raDd8fVU4KHob8847MFGpLqOcYmUh1tv4wkii9bov2YGhmw%3D%3D,B0046EDHSS::IS9auB33VrW9%2FyFLBIRNOFcOhEeNageggyZwZnX2FmjJlqrtExw%2FI%2FI06wb28AWl3ye9gjPIBR8Y2QQkpKcU0zntklxvBKbTMTfhArcr4TTgLBc2rB8OqQ%3D%3D,B00Q4O5POC::jomoftLrvvTg89QQ9BB%2BhnvbE%2BLnk4k7vGc4D5f2GddzsWqI1bHdPtrdOD6vGnPkIn4cmuVzyj%2Bg2fnBJL2SR9kejDahgBCTzpALibRPU%2FwQ78WWh1RGvswVzLCUlcL3ZvGibTpJhJghjD88E99hqpLyDA3Z4SwF&quot;,&quot;sprites&quot;:{&quot;addToWishlist&quot;:[&quot;wl_one&quot;,&quot;wl_two&quot;,&quot;wl_three&quot;],&quot;addToCart&quot;:[&quot;s_addToCart&quot;,&quot;s_addBothToCart&quot;,&quot;s_add3ToCart&quot;],&quot;preorder&quot;:[&quot;s_preorderThis&quot;,&quot;s_preorderBoth&quot;,&quot;s_preorderAll3&quot;]},&quot;shippingDetails&quot;:{&quot;xz&quot;:&quot;availability&quot;,&quot;xy&quot;:&quot;same&quot;,&quot;yz&quot;:&quot;availability&quot;,&quot;xyz&quot;:&quot;availability&quot;},&quot;tags&quot;:[&quot;x&quot;,&quot;y&quot;,&quot;z&quot;,&quot;w&quot;],&quot;strings&quot;:{&quot;showDetails&quot;:&quot;Show details&quot;,&quot;differentAvailabilityAll&quot;:&quot;Some of these items ship sooner than the others.&quot;,&quot;addToWishlist&quot;:[&quot;Add to Wish List&quot;,&quot;Add both to Wish List&quot;,&quot;Add all three to Wish List&quot;,&quot;Add all four to Wish List&quot;],&quot;shippingError&quot;:&quot;An error occurred, please try again&quot;,&quot;differentAvailability&quot;:&quot;One of these items ships sooner than the other.&quot;,&quot;preorder&quot;:[&quot;Pre-order this item&quot;,&quot;Pre-order both items&quot;,&quot;Pre-order all three items&quot;,&quot;Pre-order all four items&quot;],&quot;addToCart&quot;:[&quot;Add to Cart&quot;,&quot;Add both to Cart&quot;,&quot;Add all three to Cart&quot;,&quot;Add all four to Cart&quot;],&quot;showDetailsDefault&quot;:&quot;Show availability and shipping details&quot;,&quot;priceLabel&quot;:[&quot;Price:&quot;,&quot;Price for both:&quot;,&quot;Price for all three:&quot;,&quot;Price For All Four:&quot;],&quot;hideDetailsDefault&quot;:&quot;Hide availability and shipping details&quot;,&quot;hideDetails&quot;:&quot;Hide details&quot;}}\">{\"currencyCode\":\"USD\",\"itemData\":[{\"priceBreaksMAP\":null,\"buyingPrice\":29.95,\"ASIN\":\"B009GQ034C\",\"moqNum\":1,\"isPreorder\":0},{\"priceBreaksMAP\":null,\"buyingPrice\":8.98,\"ASIN\":\"B0046EDHSS\",\"moqNum\":1,\"isPreorder\":0},{\"priceBreaksMAP\":null,\"buyingPrice\":15.99,\"ASIN\":\"B00Q4O5POC\",\"moqNum\":1,\"isPreorder\":0}],\"shippingId\":\"B009GQ034C::iaXbdJTF0j8cE534N800f%2FeYlFfKD95kWOHXmIKlo6LnDCaPnDF0rxZHGhk0YD7NOEUSag2raDd8fVU4KHob8847MFGpLqOcYmUh1tv4wkii9bov2YGhmw%3D%3D,B0046EDHSS::IS9auB33VrW9%2FyFLBIRNOFcOhEeNageggyZwZnX2FmjJlqrtExw%2FI%2FI06wb28AWl3ye9gjPIBR8Y2QQkpKcU0zntklxvBKbTMTfhArcr4TTgLBc2rB8OqQ%3D%3D,B00Q4O5POC::jomoftLrvvTg89QQ9BB%2BhnvbE%2BLnk4k7vGc4D5f2GddzsWqI1bHdPtrdOD6vGnPkIn4cmuVzyj%2Bg2fnBJL2SR9kejDahgBCTzpALibRPU%2FwQ78WWh1RGvswVzLCUlcL3ZvGibTpJhJghjD88E99hqpLyDA3Z4SwF\",\"sprites\":{\"addToWishlist\":[\"wl_one\",\"wl_two\",\"wl_three\"],\"addToCart\":[\"s_addToCart\",\"s_addBothToCart\",\"s_add3ToCart\"],\"preorder\":[\"s_preorderThis\",\"s_preorderBoth\",\"s_preorderAll3\"]},\"shippingDetails\":{\"xz\":\"availability\",\"xy\":\"same\",\"yz\":\"availability\",\"xyz\":\"availability\"},\"tags\":[\"x\",\"y\",\"z\",\"w\"],\"strings\":{\"showDetails\":\"Show details\",\"differentAvailabilityAll\":\"Some of these items ship sooner than the others.\",\"addToWishlist\":[\"Add to Wish List\",\"Add both to Wish List\",\"Add all three to Wish List\",\"Add all four to Wish List\"],\"shippingError\":\"An error occurred, please try again\",\"differentAvailability\":\"One of these items ships sooner than the other.\",\"preorder\":[\"Pre-order this item\",\"Pre-order both items\",\"Pre-order all three items\",\"Pre-order all four items\"],\"addToCart\":[\"Add to Cart\",\"Add both to Cart\",\"Add all three to Cart\",\"Add all four to Cart\"],\"showDetailsDefault\":\"Show availability and shipping details\",\"priceLabel\":[\"Price:\",\"Price for both:\",\"Price for all three:\",\"Price For All Four:\"],\"hideDetailsDefault\":\"Hide availability and shipping details\",\"hideDetails\":\"Hide details\"}}</p>\n",
      "\n",
      "\n",
      "\n",
      "\n",
      "\n",
      "\n",
      "\n",
      "\n",
      "\n",
      "\n",
      "\n",
      "\n",
      "\n",
      "\n",
      "\n",
      "\n",
      "\n",
      "\n",
      "\n",
      "\n",
      "\n",
      " \n",
      "</div>\n",
      "\n",
      "\n",
      "<p id=\"importantInformation_feature_div\" class=\"feature\" data-feature-name=\"importantInformation\">\n",
      "\n",
      "\n",
      "\n",
      "\n",
      "    \n",
      "\n",
      "    \n",
      "    \n",
      "    \n",
      "        \n",
      "            \n",
      "                \n",
      "\t                \n",
      "\t                \n",
      "\t                \t\n",
      "\n",
      "\n",
      "\n",
      "\n",
      "\n",
      "\t                \n",
      "                \n",
      "            \n",
      "        \n",
      "        \n",
      "        \n",
      "        \n",
      "        \n",
      "        \n",
      "    \n",
      "    \n",
      "    \n",
      "\n",
      "    \n",
      "\n",
      "\n",
      "\n",
      "\n",
      "\n",
      "\n",
      "\n",
      "\n",
      "\n",
      "\n",
      "\n",
      "\n",
      "\n",
      "\n",
      "\n",
      "    </p>\n",
      "\n",
      "\n",
      "</div></body></html>\n"
     ]
    }
   ],
   "source": [
    "print Document(html).summary()"
   ]
  },
  {
   "cell_type": "markdown",
   "metadata": {},
   "source": [
    "Crappy results\n",
    "\n",
    "Much worse than goose\n",
    "\n",
    "So leave this alone"
   ]
  },
  {
   "cell_type": "markdown",
   "metadata": {},
   "source": [
    "### boilerpipe\n",
    "\n",
    "https://pypi.python.org/pypi/boilerpipe\n",
    "\n",
    "installation gives some error fixing which have a high cost yet questionable benefits ==> SKIP"
   ]
  },
  {
   "cell_type": "markdown",
   "metadata": {},
   "source": [
    "\n",
    "\n",
    "## <span style=\"color:red\"> So We Go Ahead With Python-Goose </span>\n",
    "And in later iterations add safer backoff models which would work in case goose fails\n"
   ]
  }
 ],
 "metadata": {
  "kernelspec": {
   "display_name": "Python 2",
   "language": "python",
   "name": "python2"
  },
  "language_info": {
   "codemirror_mode": {
    "name": "ipython",
    "version": 2
   },
   "file_extension": ".py",
   "mimetype": "text/x-python",
   "name": "python",
   "nbconvert_exporter": "python",
   "pygments_lexer": "ipython2",
   "version": "2.7.10"
  }
 },
 "nbformat": 4,
 "nbformat_minor": 0
}
