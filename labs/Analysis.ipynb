{
 "cells": [
  {
   "cell_type": "markdown",
   "metadata": {},
   "source": [
    "### Analysis\n",
    "Defining and refining the core computations involved in working with the text"
   ]
  },
  {
   "cell_type": "code",
   "execution_count": 2,
   "metadata": {
    "collapsed": true
   },
   "outputs": [],
   "source": [
    "import re"
   ]
  },
  {
   "cell_type": "code",
   "execution_count": 1,
   "metadata": {
    "collapsed": false
   },
   "outputs": [
    {
     "ename": "IndentationError",
     "evalue": "expected an indented block (<ipython-input-1-ae23780bdc9b>, line 2)",
     "output_type": "error",
     "traceback": [
      "\u001b[1;36m  File \u001b[1;32m\"<ipython-input-1-ae23780bdc9b>\"\u001b[1;36m, line \u001b[1;32m2\u001b[0m\n\u001b[1;33m    \u001b[0m\n\u001b[1;37m    ^\u001b[0m\n\u001b[1;31mIndentationError\u001b[0m\u001b[1;31m:\u001b[0m expected an indented block\n"
     ]
    }
   ],
   "source": [
    "def word_tokenize(text):\n",
    "    \"\"\" Tokenizes given text into words \"\"\"\n",
    "    "
   ]
  },
  {
   "cell_type": "markdown",
   "metadata": {},
   "source": [
    "Permission granted for the use of NLP Libraries, so we are gonna use Stanford CoreNLP because of its excellent Co-ref resolution feature."
   ]
  },
  {
   "cell_type": "markdown",
   "metadata": {},
   "source": [
    "## Stanford CoreNLP\n",
    "Using Dustin Smith's https://github.com/dasmith/stanford-corenlp-python corenlp python wrapper"
   ]
  },
  {
   "cell_type": "markdown",
   "metadata": {},
   "source": [
    "#### Setting things up\n",
    "1. pexpect : Windows port is winpexpect, setup with pip DONE\n",
    "```\n",
    "    sudo pip install pexpect unidecode\n",
    "    git clone git://github.com/dasmith/stanford-corenlp-python.git\n",
    "    cd stanford-corenlp-python\n",
    "    wget http://nlp.stanford.edu/software/stanford-corenlp-full-2014-08-27.zip\n",
    "    unzip stanford-corenlp-full-2014-08-27.zip\n",
    "```\n",
    "For Consistency, we are sticking to the 2014-08-27 version of CoreNLP\n",
    "\n",
    "Running it requires Java 1.8+ as listed http://nlp.stanford.edu/software/corenlp.shtml\n",
    "\n",
    "#### Setting up Java : \n",
    "https://www.java.com/en/download/help/windows_manual_download.xml\n",
    "\n",
    "We had some out-of-date java versions present, so need to remove them, the installer takes care of this\n",
    "Completed the installation\n",
    "\n",
    "Command line >> java Works\n",
    "             >> javac Does not work \n",
    "\n",
    "After much pain and struggle, we decide to drop the idea of using Stanford CoreNLP, instead lets stick to nltk\n"
   ]
  },
  {
   "cell_type": "code",
   "execution_count": null,
   "metadata": {
    "collapsed": true
   },
   "outputs": [],
   "source": []
  },
  {
   "cell_type": "code",
   "execution_count": null,
   "metadata": {
    "collapsed": true
   },
   "outputs": [],
   "source": []
  }
 ],
 "metadata": {
  "kernelspec": {
   "display_name": "Python 2",
   "language": "python",
   "name": "python2"
  },
  "language_info": {
   "codemirror_mode": {
    "name": "ipython",
    "version": 2
   },
   "file_extension": ".py",
   "mimetype": "text/x-python",
   "name": "python",
   "nbconvert_exporter": "python",
   "pygments_lexer": "ipython2",
   "version": "2.7.10"
  }
 },
 "nbformat": 4,
 "nbformat_minor": 0
}
